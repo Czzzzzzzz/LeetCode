{
 "cells": [
  {
   "cell_type": "code",
   "execution_count": 1,
   "metadata": {
    "collapsed": true
   },
   "outputs": [],
   "source": [
    "import numpy as np"
   ]
  },
  {
   "cell_type": "markdown",
   "metadata": {},
   "source": [
    "# 1. count the frequency "
   ]
  },
  {
   "cell_type": "code",
   "execution_count": 5,
   "metadata": {},
   "outputs": [
    {
     "name": "stdout",
     "output_type": "stream",
     "text": [
      "bin:\n",
      "[0 2 3 0 0 2 0 0 0 0 3]\n",
      "nonzero_index:\n",
      "(array([ 1,  2,  5, 10]),)\n",
      "count the frequency\n",
      "[(array([ 1,  2,  5, 10]),), array([2, 3, 2, 3])]\n"
     ]
    }
   ],
   "source": [
    "test_input = [2, 10, 1, 1, 2, 2, 5, 5, 10, 10]\n",
    "\n",
    "\n",
    "bin = np.bincount(test_input)\n",
    "print('bin:')\n",
    "print(bin)\n",
    "nonzero_index = np.nonzero(bin)\n",
    "print('nonzero_index:')\n",
    "print(nonzero_index)\n",
    "print('count the frequency')\n",
    "print([nonzero_index, bin[nonzero_index]])"
   ]
  },
  {
   "cell_type": "markdown",
   "metadata": {},
   "source": [
    "# 2. the index of last currence of letters"
   ]
  },
  {
   "cell_type": "code",
   "execution_count": 10,
   "metadata": {},
   "outputs": [
    {
     "name": "stdout",
     "output_type": "stream",
     "text": [
      "a 3\n",
      "s 11\n",
      "d 10\n",
      "f 7\n",
      "r 12\n",
      "g 9\n"
     ]
    }
   ],
   "source": [
    "test_input = 'asdaffffrgdsr'\n",
    "\n",
    "dic = {char: i for i, char in enumerate(test_input)}\n",
    "\n",
    "for key in dic:\n",
    "    print(key, dic[key])"
   ]
  }
 ],
 "metadata": {
  "kernelspec": {
   "display_name": "Python 3",
   "language": "python",
   "name": "python3"
  },
  "language_info": {
   "codemirror_mode": {
    "name": "ipython",
    "version": 3
   },
   "file_extension": ".py",
   "mimetype": "text/x-python",
   "name": "python",
   "nbconvert_exporter": "python",
   "pygments_lexer": "ipython3",
   "version": "3.6.3"
  }
 },
 "nbformat": 4,
 "nbformat_minor": 2
}
